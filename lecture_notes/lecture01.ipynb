{
 "cells": [
  {
   "cell_type": "markdown",
   "metadata": {},
   "source": [
    "# Lecture 1 Notes\n",
    "\n",
    "Welcome to DSS! We will be exploring a wide array of concepts from the theory of decision making to the various kinds of analytics being performed to make decisions.\n",
    "\n",
    "\n",
    "## Decision Support Systems\n",
    "While decision support systems have traditionally been a topic aimed at enterprise and business decision making processes and systems, they are not restricted to such systems.  In fact, as we will learn throughout this course _data_ is a fundamental primary input to any such systems, and is certainly not restricted to business systems.  \n",
    "\n",
    "### PERSONAL ANALTYICS\n",
    "Today, with the help of smart devices (smart phones, smart watches, fitness trackers, etc.) individuals are generating huge amounts of personal data, such as their daily habits and personal health (diet, sleep, exercise, etc.).  These systems are becoming increasingly important to _individual_ decision making allowing real-time, always-available analytics that allow visualization and manipulation of data to effectively act upon that data (make decisions).  \n",
    "\n",
    "### THE INTERNET OF THINGS\n",
    "> The Internet of Things, or IoT, is the integration of people, processes and technology with connectable devices and sensors to enable remote monitoring, status, manipulation and evaluation of trends of such devices.  When all these technologies and voluminous amounts of Things are interfaced together -- namely, devices/machines, supervisory controllers, cellular and the Internet, there is nothing we cannot connect to and communicate with.  What I am calling the Internet of Things will be far reaching. ~ Peter T. Lewis, 1985\n",
    "\n",
    "As the next wave of [big data]() arrives, everyday devices (refrigerators, ovens, sinks, furnaces, etc.) will be generating huge amounts of data.  The \"[Internet of Things](http://www.chetansharma.com/IoT_History.htm)\" represents the next wave of distributed, context-aware, data collection devices (aka \"smart devices\") and will bring to individuals and enterprises alike yet new opportunities for decision support platforms, analytics and tools.  For example, \"smart refrigerators\" will alert thier owner (or maybe even the local mobile grocer) of when the milk has reached its expiration date or when it is time to buy more eggs. Those same refrigerators will send performance status information data back to the manufacturer to alert service vendors of the need to pre-emptively replace a soon to fail component.  "
   ]
  },
  {
   "cell_type": "markdown",
   "metadata": {},
   "source": [
    "### ANALYTICS AND BIG DATA\n",
    "\n",
    "At the heart of a DSS is data, and we are now seeing \"big data\" fuel a vast array of [analytic platforms](https://www.ibm.com/big-data/us/en/) that are providing many different capabilities.  Take, for example, te staggering amount of data being produced by social media platforms like Twitter, Facebook, Instagram and others.  [According to some estimates](http://wersm.com/how-much-data-is-generated-every-minute-on-social-media/#prettyPhoto), every minute over 340,000 tweets are sent on Twitter, 300 hours of video uploaded on YouTube and 4.1 million posts \"liked\" on Facebook. \n",
    "\n",
    "![How Much Data Does Social Media Generate](./assets/wersm-how-much-data-is-generated-every-minute-infographic.jpg)\n",
    "\n",
    "This data is being used to help businesses reach markets they never knew existed, help communities stay connected and satisfy the communication and information needs of their networks and at the same time, provide vast amounts of information to end users, often in ways that contribute actionable insights if decisions are required.  For example, during natural disasters, Twitter is often used as a public platform for short-form reporting on the localized conditions of the disaster, whereabouts of victims and specific community impacts. The information footprint of this data may be vast and rapidly changing, thus it is the job of analytics platforms to turn that data into _useful insights_ that can facilitate actionable information to responders, victims, public safety officials, news agencies, etc.  For example, systems that process tweets and provide emergency response personnel impact anaylsis of affected communities are [moving out of research labs]() and into software systems.\n",
    "\n",
    "Though the traditional definition of big data relies on _the four V's_, **volume**, **velocity**, **variety** and **veracity**, the decision support systems that use this data to build actionable information extend these concepts in important ways.\n",
    "\n",
    "![4Vs of Big Data](./assets/4-Vs-of-big-data.jpg)<!-- http://www.ibmbigdatahub.com/infographic/four-vs-big-data -->"
   ]
  },
  {
   "cell_type": "markdown",
   "metadata": {},
   "source": [
    "### DECISION SUPPORT SYSTEMS ARCHITECTURES\n",
    "\n",
    "DSS architectures can be segmented into three major technical components that provide combine to form a platform pertinent to the _decision requirements_ of interest:\n",
    "\n",
    "* inputs / decision predicates\n",
    "* computational / algorithmic decision tools \n",
    "* human interfaces for visualization, data manipulation and exploration\n",
    "\n",
    "![Decision Support Components ( http://www.isy.vcu.edu/~jsutherl/Info360/DSS.pdf)](./assets/dss_components.png) <!-- http://www.isy.vcu.edu/~jsutherl/Info360/DSS.pdf -->\n",
    "\n",
    "#### INPUTS / DECISION PREDICATES\n",
    "\n",
    "This part of the system focuses on the inputs that are fundamental to the concerns / platform / analysis / process / decision requirement(s) of interest. These inputs are typically sourced from large local or remote databases (in enterprise contexts), real-time sensor platforms that are (but not necessarily) remote, and user data inputs that may be in structured and unstructured forms.\n",
    "\n",
    "**Unstructured data** is to data that may not conform to a readily machine-readable form, such as free text customer feedback. **Structured data** is that which has a formal structure and is often machine-readable.  Data in relational databases, documents in XML or JSON and other data files whose structure can be easily ascertained are common examples that fall into this category.  The work of extracting information from unstructured data and converting it to structured data may often involve machine learning and in many cases [natural language processing]() capabilities will need to be employed -- such efforts _often require substantial expertise and resources_.  However,  there are a number of machine learning platforms available today for enterprise-level text analytics (see [IBM Watson](), [HPE]() and [Google]()) that greatly reduce the effort to gain insights from such unstructured data.\n",
    "\n",
    "#### COMPUTATIONAL DECISION TOOLS\n",
    "\n",
    "\n",
    "#### HUMAN INTERFACES\n"
   ]
  }
 ],
 "metadata": {
  "anaconda-cloud": {},
  "kernelspec": {
   "display_name": "Python [conda root]",
   "language": "python",
   "name": "conda-root-py"
  },
  "language_info": {
   "codemirror_mode": {
    "name": "ipython",
    "version": 2
   },
   "file_extension": ".py",
   "mimetype": "text/x-python",
   "name": "python",
   "nbconvert_exporter": "python",
   "pygments_lexer": "ipython2",
   "version": "2.7.12"
  },
  "toc": {
   "nav_menu": {
    "height": "104px",
    "width": "251px"
   },
   "navigate_menu": true,
   "number_sections": false,
   "sideBar": true,
   "threshold": 4,
   "toc_cell": false,
   "toc_section_display": "block",
   "toc_window_display": false
  }
 },
 "nbformat": 4,
 "nbformat_minor": 1
}
